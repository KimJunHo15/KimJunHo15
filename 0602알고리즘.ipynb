{
 "cells": [
  {
   "cell_type": "markdown",
   "id": "26efaa6a",
   "metadata": {},
   "source": [
    "가장작은 크기의 초콜릿만들기"
   ]
  },
  {
   "cell_type": "code",
   "execution_count": 37,
   "id": "d3c6abf2",
   "metadata": {},
   "outputs": [],
   "source": [
    "def choco(num1,num2) :\n",
    "    return (num1-1) + num1*(num2-1)"
   ]
  },
  {
   "cell_type": "code",
   "execution_count": 25,
   "id": "4995011c",
   "metadata": {
    "scrolled": true
   },
   "outputs": [
    {
     "data": {
      "text/plain": [
       "14"
      ]
     },
     "execution_count": 25,
     "metadata": {},
     "output_type": "execute_result"
    }
   ],
   "source": [
    "choco(5,3)"
   ]
  },
  {
   "cell_type": "markdown",
   "id": "41032b06",
   "metadata": {},
   "source": [
    "현재날짜"
   ]
  },
  {
   "cell_type": "code",
   "execution_count": 6,
   "id": "e5204894",
   "metadata": {},
   "outputs": [],
   "source": [
    "from datetime import datetime"
   ]
  },
  {
   "cell_type": "code",
   "execution_count": 7,
   "id": "2bb9ebb3",
   "metadata": {},
   "outputs": [
    {
     "name": "stdout",
     "output_type": "stream",
     "text": [
      "2022-06-02\n"
     ]
    }
   ],
   "source": [
    "today = str(datetime.today())\n",
    "print(today[:10])"
   ]
  },
  {
   "cell_type": "markdown",
   "id": "92a8d795",
   "metadata": {},
   "source": [
    "(R1 + R2)/2"
   ]
  },
  {
   "cell_type": "code",
   "execution_count": 9,
   "id": "374858d0",
   "metadata": {
    "scrolled": true
   },
   "outputs": [
    {
     "name": "stdout",
     "output_type": "stream",
     "text": [
      "19\n"
     ]
    }
   ],
   "source": [
    "num1 = 11\n",
    "avg = 15\n",
    "num2 = avg*2-num1\n",
    "print(num2)"
   ]
  },
  {
   "cell_type": "code",
   "execution_count": 17,
   "id": "1bfebab3",
   "metadata": {},
   "outputs": [
    {
     "name": "stdout",
     "output_type": "stream",
     "text": [
      "875\n"
     ]
    }
   ],
   "source": [
    "i = 38\n",
    "j = 24\n",
    "k = i*(j-1)+1\n",
    "print(k)"
   ]
  },
  {
   "cell_type": "code",
   "execution_count": 25,
   "id": "f91cf2dd",
   "metadata": {},
   "outputs": [
    {
     "name": "stdout",
     "output_type": "stream",
     "text": [
      "1\n",
      "*\n",
      "1000\n",
      "1000\n"
     ]
    }
   ],
   "source": [
    "A = int(input())\n",
    "if A > 0 :\n",
    "    C = input()\n",
    "    B = int(input())\n",
    "    if B > 0 :\n",
    "        if C==\"*\" :\n",
    "            D = A*B\n",
    "        elif C==\"+\" :\n",
    "            D = A+B\n",
    "print(D)"
   ]
  },
  {
   "cell_type": "code",
   "execution_count": 36,
   "id": "8e3b71cd",
   "metadata": {
    "scrolled": true
   },
   "outputs": [
    {
     "name": "stdout",
     "output_type": "stream",
     "text": [
      "9991\n",
      "97\n",
      "103\n"
     ]
    }
   ],
   "source": [
    "N = int(input())\n",
    "n = 2\n",
    "for i in range(1,N) :\n",
    "    if(N%n==0) :\n",
    "        print(n)\n",
    "        N = N//n\n",
    "    elif(N%n!=0) :\n",
    "        n = n+1"
   ]
  }
 ],
 "metadata": {
  "kernelspec": {
   "display_name": "ITCB",
   "language": "python",
   "name": "datascience"
  },
  "language_info": {
   "codemirror_mode": {
    "name": "ipython",
    "version": 3
   },
   "file_extension": ".py",
   "mimetype": "text/x-python",
   "name": "python",
   "nbconvert_exporter": "python",
   "pygments_lexer": "ipython3",
   "version": "3.9.12"
  }
 },
 "nbformat": 4,
 "nbformat_minor": 5
}
